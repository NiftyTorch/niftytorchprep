{
  "nbformat": 4,
  "nbformat_minor": 0,
  "metadata": {
    "colab": {
      "name": "HBM-brainhack2020_bids2Niftytorch",
      "provenance": [],
      "collapsed_sections": [],
      "include_colab_link": true
    },
    "kernelspec": {
      "name": "python3",
      "display_name": "Python 3"
    }
  },
  "cells": [
    {
      "cell_type": "markdown",
      "metadata": {
        "id": "view-in-github",
        "colab_type": "text"
      },
      "source": [
        "<a href=\"https://colab.research.google.com/github/kaoriito/ohbm-hackthon2020/blob/master/HBM_brainhack2020_bids2Niftytorch.ipynb\" target=\"_parent\"><img src=\"https://colab.research.google.com/assets/colab-badge.svg\" alt=\"Open In Colab\"/></a>"
      ]
    },
    {
      "cell_type": "markdown",
      "metadata": {
        "id": "b0sP54Xy6SmP",
        "colab_type": "text"
      },
      "source": [
        "# Converting BIDS data to niftytorch format"
      ]
    },
    {
      "cell_type": "code",
      "metadata": {
        "id": "SuvyYrSy9EH1",
        "colab_type": "code",
        "colab": {}
      },
      "source": [
        "import os, sys\n",
        "import glob\n",
        "import shutil\n",
        "import pandas as pd\n",
        "import numpy as np\n",
        "from sklearn.model_selection import StratifiedShuffleSplit, train_test_split"
      ],
      "execution_count": 341,
      "outputs": []
    },
    {
      "cell_type": "code",
      "metadata": {
        "id": "yyvouS0S75Nd",
        "colab_type": "code",
        "colab": {
          "base_uri": "https://localhost:8080/",
          "height": 34
        },
        "outputId": "e90e0745-c31b-4dee-d2c1-46956e29f142"
      },
      "source": [
        "from google.colab import drive\n",
        "drive.mount('/content/drive/')"
      ],
      "execution_count": 342,
      "outputs": [
        {
          "output_type": "stream",
          "text": [
            "Drive already mounted at /content/drive/; to attempt to forcibly remount, call drive.mount(\"/content/drive/\", force_remount=True).\n"
          ],
          "name": "stdout"
        }
      ]
    },
    {
      "cell_type": "markdown",
      "metadata": {
        "id": "DA0ydpYM_u8I",
        "colab_type": "text"
      },
      "source": [
        "### Set input (BIDS) and output directories, select the variable to perform classification"
      ]
    },
    {
      "cell_type": "code",
      "metadata": {
        "id": "vvkvDG854EYU",
        "colab_type": "code",
        "colab": {}
      },
      "source": [
        "bids_dir='/content/drive/My Drive/brainhack2020/SmallData/'\n",
        "output_dir='/content/drive/My Drive/brainhack2020/OutputData/'"
      ],
      "execution_count": 343,
      "outputs": []
    },
    {
      "cell_type": "code",
      "metadata": {
        "id": "qdUDXYWva6uq",
        "colab_type": "code",
        "colab": {}
      },
      "source": [
        "# make sure this variable matches with the variable name in participants.tsv\n",
        "variable_to_classify='sex'"
      ],
      "execution_count": 374,
      "outputs": []
    },
    {
      "cell_type": "markdown",
      "metadata": {
        "id": "GLAXJCyI_-Nc",
        "colab_type": "text"
      },
      "source": [
        "### Get all subject directories and list of subjects"
      ]
    },
    {
      "cell_type": "code",
      "metadata": {
        "id": "GDrq-ax06RqK",
        "colab_type": "code",
        "colab": {}
      },
      "source": [
        "filepaths=os.path.join(bids_dir,'sub-*')\n",
        "subj_dirs=sorted(glob.glob(filepaths))\n",
        "\n",
        "# get list of subjects\n",
        "subjList=[]\n",
        "for subj in subj_dirs:\n",
        "  subjID=os.path.basename(subj)\n",
        "  subjList.append(subjID)"
      ],
      "execution_count": 373,
      "outputs": []
    },
    {
      "cell_type": "code",
      "metadata": {
        "id": "bjKhg_mwZCPb",
        "colab_type": "code",
        "colab": {}
      },
      "source": [
        "# check if the variable_to_classify is in the participants.tsv file\n",
        "if not variable_to_classify in list(participant_metadata.columns):\n",
        "  print(\"ERROR: please make sure your variable is a column in your participants.tsv file\")"
      ],
      "execution_count": 346,
      "outputs": []
    },
    {
      "cell_type": "markdown",
      "metadata": {
        "id": "vcK1r1-U_kjG",
        "colab_type": "text"
      },
      "source": [
        "### Make new folders for each subject\n",
        "\n"
      ]
    },
    {
      "cell_type": "code",
      "metadata": {
        "id": "y81SKFZh6Nfi",
        "colab_type": "code",
        "colab": {
          "base_uri": "https://localhost:8080/",
          "height": 34
        },
        "outputId": "4bdec071-78f5-4039-b380-5c2b7a47e4c5"
      },
      "source": [
        "try:\n",
        "  os.mkdir(output_dir)\n",
        "except OSError:\n",
        "  print (\"Creation of the directory %s failed\" % output_dir)\n",
        "else:\n",
        "  print (\"Successfully created the directory %s \" % output_dir)\n"
      ],
      "execution_count": 347,
      "outputs": [
        {
          "output_type": "stream",
          "text": [
            "Successfully created the directory /content/drive/My Drive/brainhack2020/OutputData/ \n"
          ],
          "name": "stdout"
        }
      ]
    },
    {
      "cell_type": "code",
      "metadata": {
        "id": "wUzpTuiR9Pl2",
        "colab_type": "code",
        "colab": {
          "base_uri": "https://localhost:8080/",
          "height": 221
        },
        "outputId": "2ef9306f-2661-4517-ca11-336bd57a5bb2"
      },
      "source": [
        "for subj in subj_dirs:\n",
        "  subjname=os.path.basename(subj)\n",
        "  print(subjname)\n",
        "  newdirpath=os.path.join(output_dir,subjname)\n",
        "  try: \n",
        "    os.mkdir(newdirpath)\n",
        "  except OSError:\n",
        "    print (\"Creation of the directory %s failed\" % newdirpath)\n",
        "  else:\n",
        "    print (\"Successfully created the directory %s \" % newdirpath)"
      ],
      "execution_count": 348,
      "outputs": [
        {
          "output_type": "stream",
          "text": [
            "sub-mgh01\n",
            "Successfully created the directory /content/drive/My Drive/brainhack2020/OutputData/sub-mgh01 \n",
            "sub-mgh02\n",
            "Successfully created the directory /content/drive/My Drive/brainhack2020/OutputData/sub-mgh02 \n",
            "sub-mgh03\n",
            "Successfully created the directory /content/drive/My Drive/brainhack2020/OutputData/sub-mgh03 \n",
            "sub-mgh04\n",
            "Successfully created the directory /content/drive/My Drive/brainhack2020/OutputData/sub-mgh04 \n",
            "sub-mgh05\n",
            "Successfully created the directory /content/drive/My Drive/brainhack2020/OutputData/sub-mgh05 \n",
            "sub-mgh06\n",
            "Successfully created the directory /content/drive/My Drive/brainhack2020/OutputData/sub-mgh06 \n"
          ],
          "name": "stdout"
        }
      ]
    },
    {
      "cell_type": "markdown",
      "metadata": {
        "id": "Fnf0GV9EcFTS",
        "colab_type": "text"
      },
      "source": [
        "### Copy nifti files from bids dir to output directory"
      ]
    },
    {
      "cell_type": "code",
      "metadata": {
        "id": "pH7HfxluOikZ",
        "colab_type": "code",
        "colab": {}
      },
      "source": [
        "def copyImageFiles(dirContainingModalityDirs,subjOutputDir):\n",
        "# provide (1) path to the parent directory of the modality directories \n",
        "# (either the subject or session level), and (2) the subject output directory\n",
        "\n",
        "  workingdir=dirContainingModalityDirs\n",
        "  modalpaths=os.path.join(workingdir,'*')\n",
        "  modalities=sorted(glob.glob(modalpaths))\n",
        "\n",
        "  for modality in modalities:\n",
        "    imgfilepaths=os.path.join(modality,'*.nii*')\n",
        "    imgfiles=sorted(glob.glob(imgfilepaths))\n",
        "    for img in imgfiles:\n",
        "      try:\n",
        "        shutil.copy(img,subjOutputDir)\n",
        "      except OSError:\n",
        "        print(\"unable to copy nifti files\")\n",
        "      else:\n",
        "        print(\"copied files successfully\")"
      ],
      "execution_count": 349,
      "outputs": []
    },
    {
      "cell_type": "code",
      "metadata": {
        "id": "EgPUtsYANOiD",
        "colab_type": "code",
        "colab": {
          "base_uri": "https://localhost:8080/",
          "height": 629
        },
        "outputId": "b3886b10-5699-4f69-87eb-09eacac2a437"
      },
      "source": [
        "for subj in subj_dirs: \n",
        "  sespath=os.path.join(subj,'ses-*')\n",
        "  ses_dirs=sorted(glob.glob(sespath))\n",
        "  subjID=os.path.basename(subj)\n",
        " # isFile=os.path.isfile(ses_dirs)\n",
        "  \n",
        "  subjOutputDir=os.path.join(output_dir,subjID)\n",
        "  \n",
        "  # some BIDS directories may have session folders.\n",
        "  if ses_dirs:\n",
        "    for session in ses_dirs:\n",
        "      #print(session)\n",
        "      workingdir=session\n",
        "      copyImageFiles(workingdir,subjOutputDir)\n",
        "\n",
        "  if not ses_dirs:\n",
        "   # print(\"ses_dirs do not exist\")\n",
        "    workingdir=subj\n",
        "    copyImageFiles(workingdir,subjOutputDir)"
      ],
      "execution_count": 350,
      "outputs": [
        {
          "output_type": "stream",
          "text": [
            "copied files successfully\n",
            "copied files successfully\n",
            "copied files successfully\n",
            "copied files successfully\n",
            "copied files successfully\n",
            "copied files successfully\n",
            "copied files successfully\n",
            "copied files successfully\n",
            "copied files successfully\n",
            "copied files successfully\n",
            "copied files successfully\n",
            "copied files successfully\n",
            "copied files successfully\n",
            "copied files successfully\n",
            "copied files successfully\n",
            "copied files successfully\n",
            "copied files successfully\n",
            "copied files successfully\n",
            "copied files successfully\n",
            "copied files successfully\n",
            "copied files successfully\n",
            "copied files successfully\n",
            "copied files successfully\n",
            "copied files successfully\n",
            "copied files successfully\n",
            "copied files successfully\n",
            "copied files successfully\n",
            "copied files successfully\n",
            "copied files successfully\n",
            "copied files successfully\n",
            "copied files successfully\n",
            "copied files successfully\n",
            "copied files successfully\n",
            "copied files successfully\n",
            "copied files successfully\n",
            "copied files successfully\n"
          ],
          "name": "stdout"
        }
      ]
    },
    {
      "cell_type": "markdown",
      "metadata": {
        "id": "Ls6gNDWRH1x6",
        "colab_type": "text"
      },
      "source": [
        "# Assign subjects to test/train datasets"
      ]
    },
    {
      "cell_type": "markdown",
      "metadata": {
        "id": "1FW_w2XFIt-E",
        "colab_type": "text"
      },
      "source": [
        "### Check that a participants.tsv file exists within the BIDS directory"
      ]
    },
    {
      "cell_type": "code",
      "metadata": {
        "id": "mdVs472GItr6",
        "colab_type": "code",
        "colab": {
          "base_uri": "https://localhost:8080/",
          "height": 34
        },
        "outputId": "d4292359-6645-4039-d4fa-34527497d8de"
      },
      "source": [
        "participantsTsvPath=os.path.join(bids_dir,'participants.tsv')\n",
        "participantsTsvExists=os.path.exists(participantsTsvPath)\n",
        "\n",
        "if not participantsTsvExists:\n",
        "  print(\"ERROR: participants.tsv file missing. Do not continue without this file\")\n",
        "\n",
        "else:\n",
        "  print(\"participants.tsv file found\")"
      ],
      "execution_count": 354,
      "outputs": [
        {
          "output_type": "stream",
          "text": [
            "participants.tsv file found\n"
          ],
          "name": "stdout"
        }
      ]
    },
    {
      "cell_type": "markdown",
      "metadata": {
        "id": "yyZXxbGOLNiS",
        "colab_type": "text"
      },
      "source": [
        "### Read in the participants.tsv file as a dataframe"
      ]
    },
    {
      "cell_type": "code",
      "metadata": {
        "id": "5hk0n40_H98F",
        "colab_type": "code",
        "colab": {}
      },
      "source": [
        "participant_metadata=pd.read_csv(participantsTsvPath, sep='\\t')\n",
        "participant_metadata=participant_metadata.sort_values('participant_id')"
      ],
      "execution_count": 375,
      "outputs": []
    },
    {
      "cell_type": "markdown",
      "metadata": {
        "id": "r1euxUoIaB-s",
        "colab_type": "text"
      },
      "source": [
        "### Get subset of participants.tsv that we actually have data for"
      ]
    },
    {
      "cell_type": "code",
      "metadata": {
        "id": "ZoquNnH8b8K0",
        "colab_type": "code",
        "colab": {}
      },
      "source": [
        "try:\n",
        "  subsetDf=participant_metadata[participant_metadata[\"participant_id\"].isin(subjList)]\n",
        "except OSError:\n",
        "  print(\"ERROR: check that your participants are listed in the participants.tsv file\")"
      ],
      "execution_count": 356,
      "outputs": []
    },
    {
      "cell_type": "code",
      "metadata": {
        "id": "dAgJDfJaaDcz",
        "colab_type": "code",
        "colab": {}
      },
      "source": [
        "if subsetDf[variable_to_classify].isnull().values.any():\n",
        "  print(\"You have missing values in your selected variable for classification.\")"
      ],
      "execution_count": 357,
      "outputs": []
    },
    {
      "cell_type": "markdown",
      "metadata": {
        "id": "L6m5AbP4GOyQ",
        "colab_type": "text"
      },
      "source": [
        "### First Split 20% of total data to validation set"
      ]
    },
    {
      "cell_type": "code",
      "metadata": {
        "id": "oASTEnkvjhSg",
        "colab_type": "code",
        "colab": {}
      },
      "source": [
        "subjListKey={v: k for k, v in enumerate(subjList)}"
      ],
      "execution_count": 376,
      "outputs": []
    },
    {
      "cell_type": "code",
      "metadata": {
        "id": "X_9xWOgc3jSD",
        "colab_type": "code",
        "colab": {}
      },
      "source": [
        "y=subsetDf[variable_to_classify].to_numpy()\n",
        "num_samples=len(y)"
      ],
      "execution_count": 359,
      "outputs": []
    },
    {
      "cell_type": "code",
      "metadata": {
        "id": "b4jC2O8_6gUm",
        "colab_type": "code",
        "colab": {}
      },
      "source": [
        "X=np.zeros(num_samples)"
      ],
      "execution_count": 360,
      "outputs": []
    },
    {
      "cell_type": "code",
      "metadata": {
        "id": "kCjgE7bJGOcG",
        "colab_type": "code",
        "colab": {}
      },
      "source": [
        "# first, do 80/20 split (the test set will be the validation set)\n",
        "sss=StratifiedShuffleSplit(n_splits=2,test_size=0.20)\n",
        "indices1,indices2=sss.split(X,y)"
      ],
      "execution_count": 361,
      "outputs": []
    },
    {
      "cell_type": "code",
      "metadata": {
        "id": "iI5NrV5VJl1K",
        "colab_type": "code",
        "colab": {
          "base_uri": "https://localhost:8080/",
          "height": 34
        },
        "outputId": "02488f92-6b6e-4f2e-f0e3-f3da6d28bf49"
      },
      "source": [
        "validation_indices=indices1[1]\n",
        "print(validation_indices)"
      ],
      "execution_count": 362,
      "outputs": [
        {
          "output_type": "stream",
          "text": [
            "[5 2]\n"
          ],
          "name": "stdout"
        }
      ]
    },
    {
      "cell_type": "code",
      "metadata": {
        "id": "7p6yFDVDKGeL",
        "colab_type": "code",
        "colab": {
          "base_uri": "https://localhost:8080/",
          "height": 34
        },
        "outputId": "d9c3257a-7af4-4033-9e22-4b697c685ac2"
      },
      "source": [
        "# remove validation set from rest of data for re-splitting and save subj ids\n",
        "val_subj=[]\n",
        "for subj in subjListKey:\n",
        "  if subjListKey[subj] in validation_indices:\n",
        "    indexNames=subsetDf[subsetDf['participant_id']==subj].index\n",
        "    subsetDf=subsetDf.drop(indexNames)\n",
        "    val_subj.append(subj)\n",
        "    try: \n",
        "      subjList.remove(subj)\n",
        "    except:\n",
        "      'subject not in list anymore'\n",
        "\n",
        "subjListKey={v: k for k, v in enumerate(subjList)}\n",
        "subjListKey"
      ],
      "execution_count": 363,
      "outputs": [
        {
          "output_type": "execute_result",
          "data": {
            "text/plain": [
              "{'sub-mgh01': 0, 'sub-mgh02': 1, 'sub-mgh04': 2, 'sub-mgh05': 3}"
            ]
          },
          "metadata": {
            "tags": []
          },
          "execution_count": 363
        }
      ]
    },
    {
      "cell_type": "markdown",
      "metadata": {
        "id": "ypo_7Si9LtjJ",
        "colab_type": "text"
      },
      "source": [
        "### Split the rest with Stratified Shuffle Split\n"
      ]
    },
    {
      "cell_type": "code",
      "metadata": {
        "id": "f1FHweGRLcQe",
        "colab_type": "code",
        "colab": {}
      },
      "source": [
        "y=subsetDf[variable_to_classify].to_numpy()\n",
        "num_samples=len(y)\n",
        "X=np.zeros(num_samples)"
      ],
      "execution_count": 364,
      "outputs": []
    },
    {
      "cell_type": "code",
      "metadata": {
        "id": "MVANLmQGL03J",
        "colab_type": "code",
        "colab": {}
      },
      "source": [
        "if num_samples>=8:\n",
        "  sss=StratifiedShuffleSplit(n_splits=2,test_size=0.25)\n",
        "else:\n",
        "  sss=StratifiedShuffleSplit(n_splits=2,test_size=0.5)\n",
        "\n",
        "indices1,indices2=sss.split(X,y)"
      ],
      "execution_count": 366,
      "outputs": []
    },
    {
      "cell_type": "code",
      "metadata": {
        "id": "dbw4IbC-7W5i",
        "colab_type": "code",
        "colab": {}
      },
      "source": [
        "train_indices=indices1[0]\n",
        "test_indices=indices1[1]"
      ],
      "execution_count": 367,
      "outputs": []
    },
    {
      "cell_type": "markdown",
      "metadata": {
        "id": "tviWAx3IM2MW",
        "colab_type": "text"
      },
      "source": [
        "### Move subjects into respective train/test directories"
      ]
    },
    {
      "cell_type": "code",
      "metadata": {
        "id": "Of12iQ8KEaGk",
        "colab_type": "code",
        "colab": {
          "base_uri": "https://localhost:8080/",
          "height": 68
        },
        "outputId": "2c86f157-ccd7-4511-f202-40f4dc61c9d7"
      },
      "source": [
        "train_dir=os.path.join(output_dir,'train')\n",
        "val_dir=os.path.join(output_dir,'val')\n",
        "test_dir=os.path.join(output_dir,'test')\n",
        "\n",
        "try:\n",
        "  os.mkdir(train_dir)\n",
        "except OSError:\n",
        "  print (\"Creation of the directory %s failed\" % train_dir)\n",
        "else:\n",
        "  print (\"Successfully created the directory %s \" % train_dir)\n",
        "\n",
        "try:\n",
        "  os.mkdir(test_dir)\n",
        "except OSError:\n",
        "  print (\"Creation of the directory %s failed\" % test_dir)\n",
        "else:\n",
        "  print (\"Successfully created the directory %s \" % test_dir)\n",
        "\n",
        "try:\n",
        "  os.mkdir(val_dir)\n",
        "except OSError:\n",
        "  print (\"Creation of the directory %s failed\" % val_dir)\n",
        "else:\n",
        "  print (\"Successfully created the directory %s \" % val_dir)"
      ],
      "execution_count": 368,
      "outputs": [
        {
          "output_type": "stream",
          "text": [
            "Successfully created the directory /content/drive/My Drive/brainhack2020/OutputData/train \n",
            "Successfully created the directory /content/drive/My Drive/brainhack2020/OutputData/test \n",
            "Successfully created the directory /content/drive/My Drive/brainhack2020/OutputData/val \n"
          ],
          "name": "stdout"
        }
      ]
    },
    {
      "cell_type": "code",
      "metadata": {
        "id": "2PaE-Nw7VPU6",
        "colab_type": "code",
        "colab": {
          "base_uri": "https://localhost:8080/",
          "height": 51
        },
        "outputId": "461793d7-8ff0-494d-db08-58cfbc872864"
      },
      "source": [
        "for subj in val_subj:\n",
        "  print(subj, \"is in validation set\")\n",
        "  subjOrigDir=os.path.join(output_dir,subj)\n",
        "  destination=val_dir  \n",
        "  try:\n",
        "    dest = shutil.move(subjOrigDir, destination) \n",
        "  except OSError:\n",
        "    print(\"destination may already exist\")"
      ],
      "execution_count": 369,
      "outputs": [
        {
          "output_type": "stream",
          "text": [
            "sub-mgh03\n",
            "sub-mgh06\n"
          ],
          "name": "stdout"
        }
      ]
    },
    {
      "cell_type": "code",
      "metadata": {
        "id": "J6bRr4YXM76h",
        "colab_type": "code",
        "colab": {
          "base_uri": "https://localhost:8080/",
          "height": 153
        },
        "outputId": "047cf756-7460-48ff-fd1c-aee7ddadaef9"
      },
      "source": [
        "for subj in subjListKey:\n",
        "  if subjListKey[subj] in train_indices:\n",
        "    print(subj, \"is in training set\")\n",
        "    subjOrigDir=os.path.join(output_dir,subj)\n",
        "    destination=train_dir\n",
        "    try:\n",
        "      dest = shutil.move(subjOrigDir, destination) \n",
        "    except OSError:\n",
        "      print(\"destination may already exist\")\n",
        "\n",
        "  elif subjListKey[subj] in test_indices:\n",
        "    print(subj, \"is in testing set\")\n",
        "    subjOrigDir=os.path.join(output_dir,subj)\n",
        "    destination=test_dir\n",
        "    try:\n",
        "     dest = shutil.move(subjOrigDir, destination) \n",
        "    except OSError:\n",
        "      print(\"destination may already exist\")"
      ],
      "execution_count": 371,
      "outputs": [
        {
          "output_type": "stream",
          "text": [
            "sub-mgh01 is in training set\n",
            "destination may already exist\n",
            "sub-mgh02 is in testing set\n",
            "destination may already exist\n",
            "sub-mgh04 is in testing set\n",
            "destination may already exist\n",
            "sub-mgh05 is in training set\n",
            "destination may already exist\n"
          ],
          "name": "stdout"
        }
      ]
    },
    {
      "cell_type": "code",
      "metadata": {
        "id": "NQ1LDctZWCuq",
        "colab_type": "code",
        "colab": {}
      },
      "source": [
        ""
      ],
      "execution_count": 340,
      "outputs": []
    }
  ]
}