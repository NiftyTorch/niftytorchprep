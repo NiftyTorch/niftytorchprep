{
  "nbformat": 4,
  "nbformat_minor": 0,
  "metadata": {
    "colab": {
      "name": "HBM-brainhack2020_bids2Niftytorch",
      "provenance": [],
      "collapsed_sections": [],
      "include_colab_link": true
    },
    "kernelspec": {
      "name": "python3",
      "display_name": "Python 3"
    }
  },
  "cells": [
    {
      "cell_type": "markdown",
      "metadata": {
        "id": "view-in-github",
        "colab_type": "text"
      },
      "source": [
        "<a href=\"https://colab.research.google.com/github/kaoriito/ohbm-hackthon2020/blob/master/HBM_brainhack2020_bids2Niftytorch.ipynb\" target=\"_parent\"><img src=\"https://colab.research.google.com/assets/colab-badge.svg\" alt=\"Open In Colab\"/></a>"
      ]
    },
    {
      "cell_type": "markdown",
      "metadata": {
        "id": "b0sP54Xy6SmP",
        "colab_type": "text"
      },
      "source": [
        "# Converting BIDS data to niftytorch format"
      ]
    },
    {
      "cell_type": "code",
      "metadata": {
        "id": "SuvyYrSy9EH1",
        "colab_type": "code",
        "colab": {}
      },
      "source": [
        "import os, sys\n",
        "import glob\n",
        "import shutil\n",
        "import pandas as pd\n",
        "import numpy as np\n",
        "from sklearn.model_selection import StratifiedShuffleSplit, train_test_split"
      ],
      "execution_count": 677,
      "outputs": []
    },
    {
      "cell_type": "code",
      "metadata": {
        "id": "yyvouS0S75Nd",
        "colab_type": "code",
        "colab": {
          "base_uri": "https://localhost:8080/",
          "height": 34
        },
        "outputId": "c1846e2b-9cbd-4730-e7e4-607993bdb003"
      },
      "source": [
        "from google.colab import drive\n",
        "drive.mount('/content/drive/')"
      ],
      "execution_count": 678,
      "outputs": [
        {
          "output_type": "stream",
          "text": [
            "Drive already mounted at /content/drive/; to attempt to forcibly remount, call drive.mount(\"/content/drive/\", force_remount=True).\n"
          ],
          "name": "stdout"
        }
      ]
    },
    {
      "cell_type": "markdown",
      "metadata": {
        "id": "DA0ydpYM_u8I",
        "colab_type": "text"
      },
      "source": [
        "### Set input (BIDS) and output directories, select the variable to perform classification"
      ]
    },
    {
      "cell_type": "code",
      "metadata": {
        "id": "vvkvDG854EYU",
        "colab_type": "code",
        "colab": {}
      },
      "source": [
        "bids_dir='/content/drive/My Drive/brainhack2020/MedData/'\n",
        "output_dir='/content/drive/My Drive/brainhack2020/OutputData/'"
      ],
      "execution_count": 679,
      "outputs": []
    },
    {
      "cell_type": "code",
      "metadata": {
        "id": "qdUDXYWva6uq",
        "colab_type": "code",
        "colab": {}
      },
      "source": [
        "# make sure this variable matches with the variable name in participants.tsv\n",
        "variable_to_classify='sex'\n",
        "# for each of the below set sizes, make sure you have have enough data so each class is represented\n",
        "# e.g., the minimum sample size you need is 20 subjects to set a 10% size for a binary classifier\n",
        "val_set_size=0.2\n",
        "test_set_size=0.1"
      ],
      "execution_count": 680,
      "outputs": []
    },
    {
      "cell_type": "markdown",
      "metadata": {
        "id": "GLAXJCyI_-Nc",
        "colab_type": "text"
      },
      "source": [
        "### Get all subject directories and list of subjects"
      ]
    },
    {
      "cell_type": "code",
      "metadata": {
        "id": "GDrq-ax06RqK",
        "colab_type": "code",
        "colab": {}
      },
      "source": [
        "filepaths=os.path.join(bids_dir,'sub-*')\n",
        "subj_dirs=sorted(glob.glob(filepaths))\n",
        "\n",
        "# get list of subjects\n",
        "subjList=[]\n",
        "for subj in subj_dirs:\n",
        "  subjID=os.path.basename(subj)\n",
        "  subjList.append(subjID)"
      ],
      "execution_count": 681,
      "outputs": []
    },
    {
      "cell_type": "code",
      "metadata": {
        "id": "bjKhg_mwZCPb",
        "colab_type": "code",
        "colab": {}
      },
      "source": [
        "# check if the variable_to_classify is in the participants.tsv file\n",
        "if not variable_to_classify in list(participant_metadata.columns):\n",
        "  sys.exit(\"ERROR: please make sure your variable is a column in your participants.tsv file\")"
      ],
      "execution_count": 682,
      "outputs": []
    },
    {
      "cell_type": "markdown",
      "metadata": {
        "id": "vcK1r1-U_kjG",
        "colab_type": "text"
      },
      "source": [
        "### Make new folders for each subject\n",
        "\n"
      ]
    },
    {
      "cell_type": "code",
      "metadata": {
        "id": "y81SKFZh6Nfi",
        "colab_type": "code",
        "colab": {
          "base_uri": "https://localhost:8080/",
          "height": 34
        },
        "outputId": "d9ad452b-679e-4bc5-c4e5-dc509a6a7182"
      },
      "source": [
        "try:\n",
        "  os.mkdir(output_dir)\n",
        "except OSError:\n",
        "  print (\"Creation of the directory %s failed\" % output_dir)\n",
        "else:\n",
        "  print (\"Successfully created the directory %s \" % output_dir)\n"
      ],
      "execution_count": 683,
      "outputs": [
        {
          "output_type": "stream",
          "text": [
            "Creation of the directory /content/drive/My Drive/brainhack2020/OutputData/ failed\n"
          ],
          "name": "stdout"
        }
      ]
    },
    {
      "cell_type": "code",
      "metadata": {
        "id": "wUzpTuiR9Pl2",
        "colab_type": "code",
        "colab": {
          "base_uri": "https://localhost:8080/",
          "height": 697
        },
        "outputId": "bbe1d7ad-8b7f-4758-c4f1-923844b54018"
      },
      "source": [
        "for subj in subj_dirs:\n",
        "  subjname=os.path.basename(subj)\n",
        "  print(subjname)\n",
        "  newdirpath=os.path.join(output_dir,subjname)\n",
        "  try: \n",
        "    os.mkdir(newdirpath)\n",
        "  except OSError:\n",
        "    print (\"Creation of the directory %s failed\" % newdirpath)\n",
        "  else:\n",
        "    print (\"Successfully created the directory %s \" % newdirpath)"
      ],
      "execution_count": 685,
      "outputs": [
        {
          "output_type": "stream",
          "text": [
            "sub-mgh01\n",
            "Successfully created the directory /content/drive/My Drive/brainhack2020/OutputData/sub-mgh01 \n",
            "sub-mgh02\n",
            "Successfully created the directory /content/drive/My Drive/brainhack2020/OutputData/sub-mgh02 \n",
            "sub-mgh03\n",
            "Successfully created the directory /content/drive/My Drive/brainhack2020/OutputData/sub-mgh03 \n",
            "sub-mgh04\n",
            "Successfully created the directory /content/drive/My Drive/brainhack2020/OutputData/sub-mgh04 \n",
            "sub-mgh05\n",
            "Successfully created the directory /content/drive/My Drive/brainhack2020/OutputData/sub-mgh05 \n",
            "sub-mgh06\n",
            "Successfully created the directory /content/drive/My Drive/brainhack2020/OutputData/sub-mgh06 \n",
            "sub-mgh07\n",
            "Successfully created the directory /content/drive/My Drive/brainhack2020/OutputData/sub-mgh07 \n",
            "sub-mgh08\n",
            "Successfully created the directory /content/drive/My Drive/brainhack2020/OutputData/sub-mgh08 \n",
            "sub-mgh09\n",
            "Successfully created the directory /content/drive/My Drive/brainhack2020/OutputData/sub-mgh09 \n",
            "sub-mgh10\n",
            "Successfully created the directory /content/drive/My Drive/brainhack2020/OutputData/sub-mgh10 \n",
            "sub-mgh11\n",
            "Successfully created the directory /content/drive/My Drive/brainhack2020/OutputData/sub-mgh11 \n",
            "sub-mgh12\n",
            "Successfully created the directory /content/drive/My Drive/brainhack2020/OutputData/sub-mgh12 \n",
            "sub-mgh13\n",
            "Successfully created the directory /content/drive/My Drive/brainhack2020/OutputData/sub-mgh13 \n",
            "sub-mgh14\n",
            "Successfully created the directory /content/drive/My Drive/brainhack2020/OutputData/sub-mgh14 \n",
            "sub-mgh15\n",
            "Successfully created the directory /content/drive/My Drive/brainhack2020/OutputData/sub-mgh15 \n",
            "sub-mgh16\n",
            "Successfully created the directory /content/drive/My Drive/brainhack2020/OutputData/sub-mgh16 \n",
            "sub-mgh17\n",
            "Successfully created the directory /content/drive/My Drive/brainhack2020/OutputData/sub-mgh17 \n",
            "sub-mgh18\n",
            "Successfully created the directory /content/drive/My Drive/brainhack2020/OutputData/sub-mgh18 \n",
            "sub-mgh19\n",
            "Successfully created the directory /content/drive/My Drive/brainhack2020/OutputData/sub-mgh19 \n",
            "sub-mgh20\n",
            "Successfully created the directory /content/drive/My Drive/brainhack2020/OutputData/sub-mgh20 \n"
          ],
          "name": "stdout"
        }
      ]
    },
    {
      "cell_type": "markdown",
      "metadata": {
        "id": "Fnf0GV9EcFTS",
        "colab_type": "text"
      },
      "source": [
        "### Copy nifti files from bids dir to output directory"
      ]
    },
    {
      "cell_type": "code",
      "metadata": {
        "id": "pH7HfxluOikZ",
        "colab_type": "code",
        "colab": {}
      },
      "source": [
        "def copyImageFiles(dirContainingModalityDirs,subjOutputDir, subjID):\n",
        "# provide (1) path to the parent directory of the modality directories \n",
        "# (either the subject or session level), and (2) the subject output directory\n",
        "\n",
        "  workingdir=dirContainingModalityDirs\n",
        "  modalpaths=os.path.join(workingdir,'*')\n",
        "  modalities=sorted(glob.glob(modalpaths))\n",
        "\n",
        "  for modality in modalities:\n",
        "    print(modality)\n",
        "    imgfilepaths=os.path.join(modality,'*.nii*')\n",
        "    imgfiles=sorted(glob.glob(imgfilepaths))\n",
        "    if not imgfiles:\n",
        "      sys.exit(\"could not find nifti files for\", subjID)\n",
        "    for img in imgfiles:\n",
        "      try:\n",
        "        shutil.copy(img,subjOutputDir)\n",
        "      except OSError:\n",
        "        print(\"unable to copy nifti files\")\n",
        "      else:\n",
        "        print(\"copied files successfully\")"
      ],
      "execution_count": 686,
      "outputs": []
    },
    {
      "cell_type": "code",
      "metadata": {
        "id": "EgPUtsYANOiD",
        "colab_type": "code",
        "colab": {
          "base_uri": "https://localhost:8080/",
          "height": 1000
        },
        "outputId": "0b308e8b-59c3-4c43-81ca-b983f0d68f4f"
      },
      "source": [
        "for subj in subj_dirs: \n",
        "  sespath=os.path.join(subj,'ses-*')\n",
        "  ses_dirs=sorted(glob.glob(sespath))\n",
        "  subjID=os.path.basename(subj)\n",
        " \n",
        "  subjOutputDir=os.path.join(output_dir,subjID)\n",
        "  \n",
        "  # some BIDS directories may have session folders.\n",
        "  if ses_dirs:\n",
        "    for session in ses_dirs:\n",
        "      print(session)\n",
        "      workingdir=session\n",
        "      copyImageFiles(workingdir,subjOutputDir, subjID)\n",
        "\n",
        "  if not ses_dirs:\n",
        "    print(\"ses_dirs do not exist\")\n",
        "    workingdir=subj\n",
        "    copyImageFiles(workingdir,subjOutputDir, subjID)"
      ],
      "execution_count": 687,
      "outputs": [
        {
          "output_type": "stream",
          "text": [
            "/content/drive/My Drive/brainhack2020/MedData/sub-mgh01/ses-1\n",
            "/content/drive/My Drive/brainhack2020/MedData/sub-mgh01/ses-1/anat\n",
            "copied files successfully\n",
            "/content/drive/My Drive/brainhack2020/MedData/sub-mgh02/ses-1\n",
            "/content/drive/My Drive/brainhack2020/MedData/sub-mgh02/ses-1/anat\n",
            "copied files successfully\n",
            "/content/drive/My Drive/brainhack2020/MedData/sub-mgh03/ses-1\n",
            "/content/drive/My Drive/brainhack2020/MedData/sub-mgh03/ses-1/anat\n",
            "copied files successfully\n",
            "/content/drive/My Drive/brainhack2020/MedData/sub-mgh04/ses-1\n",
            "/content/drive/My Drive/brainhack2020/MedData/sub-mgh04/ses-1/anat\n",
            "copied files successfully\n",
            "/content/drive/My Drive/brainhack2020/MedData/sub-mgh05/ses-1\n",
            "/content/drive/My Drive/brainhack2020/MedData/sub-mgh05/ses-1/anat\n",
            "copied files successfully\n",
            "/content/drive/My Drive/brainhack2020/MedData/sub-mgh06/ses-1\n",
            "/content/drive/My Drive/brainhack2020/MedData/sub-mgh06/ses-1/anat\n",
            "copied files successfully\n",
            "/content/drive/My Drive/brainhack2020/MedData/sub-mgh07/ses-1\n",
            "/content/drive/My Drive/brainhack2020/MedData/sub-mgh07/ses-1/anat\n",
            "copied files successfully\n",
            "/content/drive/My Drive/brainhack2020/MedData/sub-mgh08/ses-1\n",
            "/content/drive/My Drive/brainhack2020/MedData/sub-mgh08/ses-1/anat\n",
            "copied files successfully\n",
            "/content/drive/My Drive/brainhack2020/MedData/sub-mgh09/ses-1\n",
            "/content/drive/My Drive/brainhack2020/MedData/sub-mgh09/ses-1/anat\n",
            "copied files successfully\n",
            "/content/drive/My Drive/brainhack2020/MedData/sub-mgh10/ses-1\n",
            "/content/drive/My Drive/brainhack2020/MedData/sub-mgh10/ses-1/anat\n",
            "copied files successfully\n",
            "/content/drive/My Drive/brainhack2020/MedData/sub-mgh11/ses-1\n",
            "/content/drive/My Drive/brainhack2020/MedData/sub-mgh11/ses-1/anat\n",
            "copied files successfully\n",
            "/content/drive/My Drive/brainhack2020/MedData/sub-mgh12/ses-1\n",
            "/content/drive/My Drive/brainhack2020/MedData/sub-mgh12/ses-1/anat\n",
            "copied files successfully\n",
            "/content/drive/My Drive/brainhack2020/MedData/sub-mgh13/ses-1\n",
            "/content/drive/My Drive/brainhack2020/MedData/sub-mgh13/ses-1/anat\n",
            "copied files successfully\n",
            "/content/drive/My Drive/brainhack2020/MedData/sub-mgh14/ses-1\n",
            "/content/drive/My Drive/brainhack2020/MedData/sub-mgh14/ses-1/anat\n",
            "copied files successfully\n",
            "/content/drive/My Drive/brainhack2020/MedData/sub-mgh15/ses-1\n",
            "/content/drive/My Drive/brainhack2020/MedData/sub-mgh15/ses-1/anat\n",
            "copied files successfully\n",
            "/content/drive/My Drive/brainhack2020/MedData/sub-mgh16/ses-1\n",
            "/content/drive/My Drive/brainhack2020/MedData/sub-mgh16/ses-1/anat\n",
            "copied files successfully\n",
            "/content/drive/My Drive/brainhack2020/MedData/sub-mgh17/ses-1\n",
            "/content/drive/My Drive/brainhack2020/MedData/sub-mgh17/ses-1/anat\n",
            "copied files successfully\n",
            "/content/drive/My Drive/brainhack2020/MedData/sub-mgh18/ses-1\n",
            "/content/drive/My Drive/brainhack2020/MedData/sub-mgh18/ses-1/anat\n",
            "copied files successfully\n",
            "/content/drive/My Drive/brainhack2020/MedData/sub-mgh19/ses-1\n",
            "/content/drive/My Drive/brainhack2020/MedData/sub-mgh19/ses-1/anat\n",
            "copied files successfully\n",
            "/content/drive/My Drive/brainhack2020/MedData/sub-mgh20/ses-1\n",
            "/content/drive/My Drive/brainhack2020/MedData/sub-mgh20/ses-1/anat\n",
            "copied files successfully\n"
          ],
          "name": "stdout"
        }
      ]
    },
    {
      "cell_type": "markdown",
      "metadata": {
        "id": "Ls6gNDWRH1x6",
        "colab_type": "text"
      },
      "source": [
        "# Assign subjects to test/train datasets"
      ]
    },
    {
      "cell_type": "markdown",
      "metadata": {
        "id": "1FW_w2XFIt-E",
        "colab_type": "text"
      },
      "source": [
        "### Check that a participants.tsv file exists within the BIDS directory"
      ]
    },
    {
      "cell_type": "code",
      "metadata": {
        "id": "mdVs472GItr6",
        "colab_type": "code",
        "colab": {
          "base_uri": "https://localhost:8080/",
          "height": 34
        },
        "outputId": "2f2aad21-e7fc-4afb-da34-2742afed5a1b"
      },
      "source": [
        "participantsTsvPath=os.path.join(bids_dir,'participants.tsv')\n",
        "participantsTsvExists=os.path.exists(participantsTsvPath)\n",
        "\n",
        "if not participantsTsvExists:\n",
        "  sys.exit(\"ERROR: participants.tsv file missing. Do not continue without this file\")\n",
        "\n",
        "else:\n",
        "  print(\"participants.tsv file found\")"
      ],
      "execution_count": 688,
      "outputs": [
        {
          "output_type": "stream",
          "text": [
            "participants.tsv file found\n"
          ],
          "name": "stdout"
        }
      ]
    },
    {
      "cell_type": "markdown",
      "metadata": {
        "id": "yyZXxbGOLNiS",
        "colab_type": "text"
      },
      "source": [
        "### Read in the participants.tsv file as a dataframe"
      ]
    },
    {
      "cell_type": "code",
      "metadata": {
        "id": "5hk0n40_H98F",
        "colab_type": "code",
        "colab": {}
      },
      "source": [
        "participant_metadata=pd.read_csv(participantsTsvPath, sep='\\t')\n",
        "participant_metadata=participant_metadata.sort_values('participant_id')"
      ],
      "execution_count": 689,
      "outputs": []
    },
    {
      "cell_type": "markdown",
      "metadata": {
        "id": "r1euxUoIaB-s",
        "colab_type": "text"
      },
      "source": [
        "### Get subset of participants.tsv that we actually have data for"
      ]
    },
    {
      "cell_type": "code",
      "metadata": {
        "id": "ZoquNnH8b8K0",
        "colab_type": "code",
        "colab": {}
      },
      "source": [
        "try:\n",
        "  subsetDf=participant_metadata[participant_metadata[\"participant_id\"].isin(subjList)]\n",
        "except OSError:\n",
        "  sys.exit(\"ERROR: check that your participants are listed in the participants.tsv file\")"
      ],
      "execution_count": 690,
      "outputs": []
    },
    {
      "cell_type": "code",
      "metadata": {
        "id": "3UHY0Fy-s8v7",
        "colab_type": "code",
        "colab": {}
      },
      "source": [
        "if not (pd.Series(subjList).isin(subsetDf[\"participant_id\"]).all()):\n",
        "  sys.exit(\"ERROR: there are participants missing in your participants.tsv file\")"
      ],
      "execution_count": 691,
      "outputs": []
    },
    {
      "cell_type": "code",
      "metadata": {
        "id": "dAgJDfJaaDcz",
        "colab_type": "code",
        "colab": {}
      },
      "source": [
        "if subsetDf[variable_to_classify].isnull().values.any():\n",
        "  sys.exit(\"You have missing values in your selected variable for classification.\")"
      ],
      "execution_count": 692,
      "outputs": []
    },
    {
      "cell_type": "markdown",
      "metadata": {
        "id": "L6m5AbP4GOyQ",
        "colab_type": "text"
      },
      "source": [
        "### First Split test_set_size% of total data to test set"
      ]
    },
    {
      "cell_type": "code",
      "metadata": {
        "id": "oASTEnkvjhSg",
        "colab_type": "code",
        "colab": {}
      },
      "source": [
        "subjListKey={v: k for k, v in enumerate(subjList)}"
      ],
      "execution_count": 693,
      "outputs": []
    },
    {
      "cell_type": "code",
      "metadata": {
        "id": "X_9xWOgc3jSD",
        "colab_type": "code",
        "colab": {}
      },
      "source": [
        "y=subsetDf[variable_to_classify].to_numpy()\n",
        "num_samples=len(y)"
      ],
      "execution_count": 694,
      "outputs": []
    },
    {
      "cell_type": "code",
      "metadata": {
        "id": "b4jC2O8_6gUm",
        "colab_type": "code",
        "colab": {}
      },
      "source": [
        "X=np.zeros(num_samples)"
      ],
      "execution_count": 695,
      "outputs": []
    },
    {
      "cell_type": "code",
      "metadata": {
        "id": "kCjgE7bJGOcG",
        "colab_type": "code",
        "colab": {}
      },
      "source": [
        "sss=StratifiedShuffleSplit(n_splits=2,test_size=test_set_size)\n",
        "indices1,indices2=sss.split(X,y)"
      ],
      "execution_count": 696,
      "outputs": []
    },
    {
      "cell_type": "code",
      "metadata": {
        "id": "iI5NrV5VJl1K",
        "colab_type": "code",
        "colab": {}
      },
      "source": [
        "test_indices=indices1[1]"
      ],
      "execution_count": 697,
      "outputs": []
    },
    {
      "cell_type": "code",
      "metadata": {
        "id": "7p6yFDVDKGeL",
        "colab_type": "code",
        "colab": {
          "base_uri": "https://localhost:8080/",
          "height": 323
        },
        "outputId": "b70b4635-f392-4981-ebf0-fadc39a03391"
      },
      "source": [
        "# remove test set from rest of data for re-splitting and save subj ids\n",
        "test_subj=[]\n",
        "for subj in subjListKey:\n",
        "  if subjListKey[subj] in test_indices:\n",
        "    indexNames=subsetDf[subsetDf['participant_id']==subj].index\n",
        "    subsetDf=subsetDf.drop(indexNames)\n",
        "    test_subj.append(subj)\n",
        "    try: \n",
        "      subjList.remove(subj)\n",
        "    except:\n",
        "      'subject not in list anymore'\n",
        "\n",
        "subjListKey={v: k for k, v in enumerate(subjList)}\n",
        "subjListKey"
      ],
      "execution_count": 698,
      "outputs": [
        {
          "output_type": "execute_result",
          "data": {
            "text/plain": [
              "{'sub-mgh01': 0,\n",
              " 'sub-mgh02': 1,\n",
              " 'sub-mgh03': 2,\n",
              " 'sub-mgh04': 3,\n",
              " 'sub-mgh05': 4,\n",
              " 'sub-mgh06': 5,\n",
              " 'sub-mgh07': 6,\n",
              " 'sub-mgh08': 7,\n",
              " 'sub-mgh09': 8,\n",
              " 'sub-mgh10': 9,\n",
              " 'sub-mgh11': 10,\n",
              " 'sub-mgh12': 11,\n",
              " 'sub-mgh13': 12,\n",
              " 'sub-mgh14': 13,\n",
              " 'sub-mgh16': 14,\n",
              " 'sub-mgh17': 15,\n",
              " 'sub-mgh19': 16,\n",
              " 'sub-mgh20': 17}"
            ]
          },
          "metadata": {
            "tags": []
          },
          "execution_count": 698
        }
      ]
    },
    {
      "cell_type": "markdown",
      "metadata": {
        "id": "ypo_7Si9LtjJ",
        "colab_type": "text"
      },
      "source": [
        "### Split the rest with Stratified Shuffle Split\n"
      ]
    },
    {
      "cell_type": "code",
      "metadata": {
        "id": "lPaKYXCUeeA0",
        "colab_type": "code",
        "colab": {}
      },
      "source": [
        "# recalculate val_set_size percentage based on remaining participants\n",
        "new_val_setsize=(val_set_size*num_samples)/((val_set_size*num_samples)+((1-(val_set_size+test_set_size))*num_samples))\n",
        "new_val_setsize=round(new_val_setsize,2)"
      ],
      "execution_count": 699,
      "outputs": []
    },
    {
      "cell_type": "code",
      "metadata": {
        "id": "f1FHweGRLcQe",
        "colab_type": "code",
        "colab": {}
      },
      "source": [
        "y=subsetDf[variable_to_classify].to_numpy()\n",
        "num_samples=len(y)\n",
        "X=np.zeros(num_samples)"
      ],
      "execution_count": 700,
      "outputs": []
    },
    {
      "cell_type": "code",
      "metadata": {
        "id": "MVANLmQGL03J",
        "colab_type": "code",
        "colab": {
          "base_uri": "https://localhost:8080/",
          "height": 34
        },
        "outputId": "182fb524-2879-4c46-93ae-680b844b8a68"
      },
      "source": [
        "if num_samples*new_val_setsize>=2:\n",
        "  sss=StratifiedShuffleSplit(n_splits=2,test_size=new_val_setsize)\n",
        "  print('validation set size:', new_val_setsize)\n",
        "else:\n",
        "  sss=StratifiedShuffleSplit(n_splits=2,test_size=0.5)\n",
        "  print('validation set size: 0.5')\n",
        "\n",
        "indices1,indices2=sss.split(X,y)"
      ],
      "execution_count": 701,
      "outputs": [
        {
          "output_type": "stream",
          "text": [
            "validation set size: 0.22\n"
          ],
          "name": "stdout"
        }
      ]
    },
    {
      "cell_type": "code",
      "metadata": {
        "id": "dbw4IbC-7W5i",
        "colab_type": "code",
        "colab": {}
      },
      "source": [
        "train_indices=indices1[0]\n",
        "validation_indices=indices1[1]"
      ],
      "execution_count": 702,
      "outputs": []
    },
    {
      "cell_type": "markdown",
      "metadata": {
        "id": "tviWAx3IM2MW",
        "colab_type": "text"
      },
      "source": [
        "### Move subjects into respective train/test directories"
      ]
    },
    {
      "cell_type": "code",
      "metadata": {
        "id": "Of12iQ8KEaGk",
        "colab_type": "code",
        "colab": {
          "base_uri": "https://localhost:8080/",
          "height": 68
        },
        "outputId": "1e028a31-d6ac-44df-c01c-0be5b1c19f45"
      },
      "source": [
        "train_dir=os.path.join(output_dir,'train')\n",
        "val_dir=os.path.join(output_dir,'val')\n",
        "test_dir=os.path.join(output_dir,'test')\n",
        "\n",
        "try:\n",
        "  os.mkdir(train_dir)\n",
        "except OSError:\n",
        "  print (\"Creation of the directory %s failed\" % train_dir)\n",
        "else:\n",
        "  print (\"Successfully created the directory %s \" % train_dir)\n",
        "\n",
        "try:\n",
        "  os.mkdir(test_dir)\n",
        "except OSError:\n",
        "  print (\"Creation of the directory %s failed\" % test_dir)\n",
        "else:\n",
        "  print (\"Successfully created the directory %s \" % test_dir)\n",
        "\n",
        "try:\n",
        "  os.mkdir(val_dir)\n",
        "except OSError:\n",
        "  print (\"Creation of the directory %s failed\" % val_dir)\n",
        "else:\n",
        "  print (\"Successfully created the directory %s \" % val_dir)"
      ],
      "execution_count": 703,
      "outputs": [
        {
          "output_type": "stream",
          "text": [
            "Successfully created the directory /content/drive/My Drive/brainhack2020/OutputData/train \n",
            "Successfully created the directory /content/drive/My Drive/brainhack2020/OutputData/test \n",
            "Successfully created the directory /content/drive/My Drive/brainhack2020/OutputData/val \n"
          ],
          "name": "stdout"
        }
      ]
    },
    {
      "cell_type": "code",
      "metadata": {
        "id": "2PaE-Nw7VPU6",
        "colab_type": "code",
        "colab": {
          "base_uri": "https://localhost:8080/",
          "height": 51
        },
        "outputId": "1a861802-ed7d-4f25-d2f1-52331ec9fb38"
      },
      "source": [
        "for subj in test_subj:\n",
        "  print(subj, \"is in test set\")\n",
        "  subjOrigDir=os.path.join(output_dir,subj)\n",
        "  destination=test_dir  \n",
        "  try:\n",
        "    dest = shutil.move(subjOrigDir, destination) \n",
        "  except OSError:\n",
        "    print(\"destination may already exist\")"
      ],
      "execution_count": 704,
      "outputs": [
        {
          "output_type": "stream",
          "text": [
            "sub-mgh15 is in test set\n",
            "sub-mgh18 is in test set\n"
          ],
          "name": "stdout"
        }
      ]
    },
    {
      "cell_type": "code",
      "metadata": {
        "id": "J6bRr4YXM76h",
        "colab_type": "code",
        "colab": {
          "base_uri": "https://localhost:8080/",
          "height": 323
        },
        "outputId": "85fbdeeb-b635-45f0-e545-3c9b6e971a7e"
      },
      "source": [
        "for subj in subjListKey:\n",
        "  if subjListKey[subj] in train_indices:\n",
        "    print(subj, \"is in training set\")\n",
        "    subjOrigDir=os.path.join(output_dir,subj)\n",
        "    destination=train_dir\n",
        "    try:\n",
        "      dest = shutil.move(subjOrigDir, destination) \n",
        "    except OSError:\n",
        "      print(\"destination may already exist\")\n",
        "\n",
        "  elif subjListKey[subj] in validation_indices:\n",
        "    print(subj, \"is in validation set\")\n",
        "    subjOrigDir=os.path.join(output_dir,subj)\n",
        "    destination=val_dir\n",
        "    try:\n",
        "     dest = shutil.move(subjOrigDir, destination) \n",
        "    except OSError:\n",
        "      print(\"destination may already exist\")"
      ],
      "execution_count": 705,
      "outputs": [
        {
          "output_type": "stream",
          "text": [
            "sub-mgh01 is in training set\n",
            "sub-mgh02 is in training set\n",
            "sub-mgh03 is in training set\n",
            "sub-mgh04 is in training set\n",
            "sub-mgh05 is in validation set\n",
            "sub-mgh06 is in training set\n",
            "sub-mgh07 is in training set\n",
            "sub-mgh08 is in training set\n",
            "sub-mgh09 is in training set\n",
            "sub-mgh10 is in training set\n",
            "sub-mgh11 is in validation set\n",
            "sub-mgh12 is in training set\n",
            "sub-mgh13 is in validation set\n",
            "sub-mgh14 is in training set\n",
            "sub-mgh16 is in training set\n",
            "sub-mgh17 is in training set\n",
            "sub-mgh19 is in validation set\n",
            "sub-mgh20 is in training set\n"
          ],
          "name": "stdout"
        }
      ]
    },
    {
      "cell_type": "code",
      "metadata": {
        "id": "NQ1LDctZWCuq",
        "colab_type": "code",
        "colab": {}
      },
      "source": [
        ""
      ],
      "execution_count": 675,
      "outputs": []
    }
  ]
}