{
  "nbformat": 4,
  "nbformat_minor": 0,
  "metadata": {
    "colab": {
      "name": "HBM-brainhack2020_bids2Niftytorch",
      "provenance": [],
      "collapsed_sections": [],
      "include_colab_link": true
    },
    "kernelspec": {
      "name": "python3",
      "display_name": "Python 3"
    }
  },
  "cells": [
    {
      "cell_type": "markdown",
      "metadata": {
        "id": "view-in-github",
        "colab_type": "text"
      },
      "source": [
        "<a href=\"https://colab.research.google.com/github/kaoriito/ohbm-hackthon2020/blob/master/bids2Niftytorch_step1.ipynb\" target=\"_parent\"><img src=\"https://colab.research.google.com/assets/colab-badge.svg\" alt=\"Open In Colab\"/></a>"
      ]
    },
    {
      "cell_type": "markdown",
      "metadata": {
        "id": "b0sP54Xy6SmP",
        "colab_type": "text"
      },
      "source": [
        "## Converting BIDS data to niftytorch format - subject level"
      ]
    },
    {
      "cell_type": "code",
      "metadata": {
        "id": "SuvyYrSy9EH1",
        "colab_type": "code",
        "colab": {}
      },
      "source": [
        "import os, sys\n",
        "import glob\n",
        "import shutil"
      ],
      "execution_count": null,
      "outputs": []
    },
    {
      "cell_type": "code",
      "metadata": {
        "id": "yyvouS0S75Nd",
        "colab_type": "code",
        "colab": {
          "base_uri": "https://localhost:8080/",
          "height": 34
        },
        "outputId": "49e8a1d1-61b5-47b9-a81e-0d15a9a366db"
      },
      "source": [
        "from google.colab import drive\n",
        "drive.mount('/content/drive/')"
      ],
      "execution_count": null,
      "outputs": [
        {
          "output_type": "stream",
          "text": [
            "Drive already mounted at /content/drive/; to attempt to forcibly remount, call drive.mount(\"/content/drive/\", force_remount=True).\n"
          ],
          "name": "stdout"
        }
      ]
    },
    {
      "cell_type": "markdown",
      "metadata": {
        "id": "DA0ydpYM_u8I",
        "colab_type": "text"
      },
      "source": [
        "### Set input (BIDS) and output directories"
      ]
    },
    {
      "cell_type": "code",
      "metadata": {
        "id": "vvkvDG854EYU",
        "colab_type": "code",
        "colab": {}
      },
      "source": [
        "bids_dir='/content/drive/My Drive/brainhack2020/SmallData/'\n",
        "output_dir='/content/drive/My Drive/brainhack2020/OutputData/'"
      ],
      "execution_count": null,
      "outputs": []
    },
    {
      "cell_type": "markdown",
      "metadata": {
        "id": "GLAXJCyI_-Nc",
        "colab_type": "text"
      },
      "source": [
        "### Get all subject directories"
      ]
    },
    {
      "cell_type": "code",
      "metadata": {
        "id": "GDrq-ax06RqK",
        "colab_type": "code",
        "colab": {}
      },
      "source": [
        "filepaths=os.path.join(bids_dir,'sub-*')\n",
        "subj_dirs=sorted(glob.glob(filepaths))"
      ],
      "execution_count": null,
      "outputs": []
    },
    {
      "cell_type": "code",
      "metadata": {
        "id": "kvB7dpuGJUoi",
        "colab_type": "code",
        "colab": {
          "base_uri": "https://localhost:8080/",
          "height": 54
        },
        "outputId": "03453ee3-556d-4b64-bba5-5cf8ff0e9191"
      },
      "source": [
        "print(subj_dirs) "
      ],
      "execution_count": null,
      "outputs": [
        {
          "output_type": "stream",
          "text": [
            "['/content/drive/My Drive/brainhack2020/SmallData/sub-mgh01', '/content/drive/My Drive/brainhack2020/SmallData/sub-mgh02', '/content/drive/My Drive/brainhack2020/SmallData/sub-mgh03', '/content/drive/My Drive/brainhack2020/SmallData/sub-mgh04', '/content/drive/My Drive/brainhack2020/SmallData/sub-mgh05', '/content/drive/My Drive/brainhack2020/SmallData/sub-mgh06']\n"
          ],
          "name": "stdout"
        }
      ]
    },
    {
      "cell_type": "markdown",
      "metadata": {
        "id": "vcK1r1-U_kjG",
        "colab_type": "text"
      },
      "source": [
        "### Make new folders for each subject\n",
        "\n",
        "```\n",
        "# This is formatted as code\n",
        "```\n",
        "\n",
        "\n"
      ]
    },
    {
      "cell_type": "code",
      "metadata": {
        "id": "y81SKFZh6Nfi",
        "colab_type": "code",
        "colab": {
          "base_uri": "https://localhost:8080/",
          "height": 34
        },
        "outputId": "1a2976db-8c7c-4d90-da40-caf24d7823d6"
      },
      "source": [
        "try:\n",
        "  os.mkdir(output_dir)\n",
        "except OSError:\n",
        "  print (\"Creation of the directory %s failed\" % output_dir)\n",
        "else:\n",
        "  print (\"Successfully created the directory %s \" % output_dir)\n"
      ],
      "execution_count": null,
      "outputs": [
        {
          "output_type": "stream",
          "text": [
            "Creation of the directory /content/drive/My Drive/brainhack2020/OutputData/ failed\n"
          ],
          "name": "stdout"
        }
      ]
    },
    {
      "cell_type": "code",
      "metadata": {
        "id": "wUzpTuiR9Pl2",
        "colab_type": "code",
        "colab": {
          "base_uri": "https://localhost:8080/",
          "height": 221
        },
        "outputId": "229d8c9a-199c-4d8c-a1fd-6184a55a44ae"
      },
      "source": [
        "for subj in subj_dirs:\n",
        "  subjname=os.path.basename(subj)\n",
        "  print(subjname)\n",
        "  newdirpath=os.path.join(output_dir,subjname)\n",
        "  try: \n",
        "    os.mkdir(newdirpath)\n",
        "  except OSError:\n",
        "    print (\"Creation of the directory %s failed\" % newdirpath)\n",
        "  else:\n",
        "    print (\"Successfully created the directory %s \" % newdirpath)"
      ],
      "execution_count": null,
      "outputs": [
        {
          "output_type": "stream",
          "text": [
            "sub-mgh01\n",
            "Creation of the directory /content/drive/My Drive/brainhack2020/OutputData/sub-mgh01 failed\n",
            "sub-mgh02\n",
            "Creation of the directory /content/drive/My Drive/brainhack2020/OutputData/sub-mgh02 failed\n",
            "sub-mgh03\n",
            "Creation of the directory /content/drive/My Drive/brainhack2020/OutputData/sub-mgh03 failed\n",
            "sub-mgh04\n",
            "Creation of the directory /content/drive/My Drive/brainhack2020/OutputData/sub-mgh04 failed\n",
            "sub-mgh05\n",
            "Creation of the directory /content/drive/My Drive/brainhack2020/OutputData/sub-mgh05 failed\n",
            "sub-mgh06\n",
            "Creation of the directory /content/drive/My Drive/brainhack2020/OutputData/sub-mgh06 failed\n"
          ],
          "name": "stdout"
        }
      ]
    },
    {
      "cell_type": "markdown",
      "metadata": {
        "id": "Fnf0GV9EcFTS",
        "colab_type": "text"
      },
      "source": [
        "### Copy nifti files from bids dir to output directory"
      ]
    },
    {
      "cell_type": "code",
      "metadata": {
        "id": "pH7HfxluOikZ",
        "colab_type": "code",
        "colab": {}
      },
      "source": [
        "def copyImageFiles(dirContainingModalityDirs,subjOutputDir):\n",
        "# provide (1) path to the parent directory of the modality directories \n",
        "# (either the subject or session level), and (2) the subject output directory\n",
        "\n",
        "  workingdir=dirContainingModalityDirs\n",
        "  modalpaths=os.path.join(workingdir,'*')\n",
        "  modalities=sorted(glob.glob(modalpaths))\n",
        "\n",
        "  for modality in modalities:\n",
        "    imgfilepaths=os.path.join(modality,'*.nii*')\n",
        "    imgfiles=sorted(glob.glob(imgfilepaths))\n",
        "    for img in imgfiles:\n",
        "      try:\n",
        "        shutil.copy(img,subjOutputDir)\n",
        "      except OSError:\n",
        "        print(\"unable to copy nifti files\")\n",
        "      else:\n",
        "        print(\"copied files successfully\")"
      ],
      "execution_count": null,
      "outputs": []
    },
    {
      "cell_type": "code",
      "metadata": {
        "id": "EgPUtsYANOiD",
        "colab_type": "code",
        "colab": {
          "base_uri": "https://localhost:8080/",
          "height": 629
        },
        "outputId": "ff9e56e3-b036-434d-ed3c-0700ada4ed2e"
      },
      "source": [
        "for subj in subj_dirs: \n",
        "  sespath=os.path.join(subj,'ses-*')\n",
        "  ses_dirs=sorted(glob.glob(sespath))\n",
        "  subjID=os.path.basename(subj)\n",
        " # isFile=os.path.isfile(ses_dirs)\n",
        "  \n",
        "  subjOutputDir=os.path.join(output_dir,subjID)\n",
        "  \n",
        "  if ses_dirs:\n",
        "    for session in ses_dirs:\n",
        "      #print(session)\n",
        "      workingdir=session\n",
        "      copyImageFiles(workingdir,subjOutputDir)\n",
        "\n",
        "  if not ses_dirs:\n",
        "   # print(\"ses_dirs do not exist\")\n",
        "    workingdir=subj\n",
        "    copyImageFiles(workingdir,subjOutputDir)"
      ],
      "execution_count": null,
      "outputs": [
        {
          "output_type": "stream",
          "text": [
            "copied files successfully\n",
            "copied files successfully\n",
            "copied files successfully\n",
            "copied files successfully\n",
            "copied files successfully\n",
            "copied files successfully\n",
            "copied files successfully\n",
            "copied files successfully\n",
            "copied files successfully\n",
            "copied files successfully\n",
            "copied files successfully\n",
            "copied files successfully\n",
            "copied files successfully\n",
            "copied files successfully\n",
            "copied files successfully\n",
            "copied files successfully\n",
            "copied files successfully\n",
            "copied files successfully\n",
            "copied files successfully\n",
            "copied files successfully\n",
            "copied files successfully\n",
            "copied files successfully\n",
            "copied files successfully\n",
            "copied files successfully\n",
            "copied files successfully\n",
            "copied files successfully\n",
            "copied files successfully\n",
            "copied files successfully\n",
            "copied files successfully\n",
            "copied files successfully\n",
            "copied files successfully\n",
            "copied files successfully\n",
            "copied files successfully\n",
            "copied files successfully\n",
            "copied files successfully\n",
            "copied files successfully\n"
          ],
          "name": "stdout"
        }
      ]
    },
    {
      "cell_type": "code",
      "metadata": {
        "id": "qte32YlKccFY",
        "colab_type": "code",
        "colab": {}
      },
      "source": [
        ""
      ],
      "execution_count": null,
      "outputs": []
    }
  ]
}